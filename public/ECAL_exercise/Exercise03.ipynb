{
 "cells": [
  {
   "cell_type": "markdown",
   "id": "a1c50278",
   "metadata": {},
   "source": [
    "# Übungen zu Teilchenphysik I\n",
    "## Exercise 03 - EMCal in a nutshell\n",
    "\n",
    "    D. Wong, November 2024                                                "
   ]
  },
  {
   "cell_type": "markdown",
   "id": "b82039ad",
   "metadata": {},
   "source": [
    "## Setup\n",
    "\n",
    "It is very likely that you will need the following packages, so don't forget to import them!"
   ]
  },
  {
   "cell_type": "code",
   "execution_count": null,
   "id": "f4145d8d",
   "metadata": {},
   "outputs": [],
   "source": [
    "import numpy as np\n",
    "import uproot\n",
    "import matplotlib.pyplot as plt\n",
    "# This is a local module that will be necessary for the sections 2 and 3: it's already provided in this repository\n",
    "import exercise3_utils as ex3"
   ]
  },
  {
   "cell_type": "markdown",
   "id": "ad70f3aa-e25b-4929-b97b-b33325e649d8",
   "metadata": {},
   "source": [
    "<a name='section_1_0'></a>\n",
    "<hr style=\"height: 1px;\">\n",
    "\n",
    "\n",
    "## <h1 style=\"border:1px; border-style:solid; padding: 0.25em; color: #FFFFFF; background-color: #FFA500\">Section 1: Electromagnetic cascades in a calorimeter</h1>\n"
   ]
  },
  {
   "cell_type": "markdown",
   "id": "b58b527c",
   "metadata": {},
   "source": [
    "<div style=\"text-align: center; font-family: 'Arial', sans-serif; font-size: 24px; line-height: 1.5; color: yellow; background-color: black; padding: 20px;\">\n",
    "    <img src=\"https://static1.cbrimages.com/wordpress/wp-content/uploads/2022/05/Darth-Varder-Lightning.jpg?q=50&fit=crop&w=1140&h=&dpr=1.5\" alt=\"Darth Vader\" width=\"300\" style=\"float: left; margin-right: 10px;\">\n",
    "\n",
    "<p style=\"font-size: 34px; font-weight: bold;\">Anakin Skywalker was weak. He didn't know the power EM showers.</p>\n",
    "\n",
    "<p style=\"text-align: right; font-size: 24px; font-style: italic; margin-top: 40px;\">– Anakin himself</p>\n",
    "</div>\n"
   ]
  },
  {
   "cell_type": "markdown",
   "id": "ccb08dab",
   "metadata": {},
   "source": [
    "An **electromagnetic (EM) shower** is a cascade of particles, including photons, electrons, and positrons, produced when a high-energy electron, positron, or photon enters a material.\n",
    "\n",
    "![EMShower](https://www.aanda.org/articles/aa/full/2003/43/aaINTEGRAL41/img17.gif)\n",
    "\n"
   ]
  },
  {
   "cell_type": "markdown",
   "id": "deebb60f",
   "metadata": {},
   "source": [
    "<a name='section_1_1'></a>\n",
    "<hr style=\"height: 1px;\">\n",
    "\n",
    "\n",
    "## <h3 style=\"border:1px; border-style:solid; padding: 0.25em; color: #FFFFFF; background-color: #FFA500\">Problem 1.1: EMCal dimension estimation</h3>"
   ]
  },
  {
   "cell_type": "markdown",
   "id": "14c1176f",
   "metadata": {},
   "source": [
    "**Electromagnetic calorimeters (EMCal)** designed to measure EM showers use high-Z materials to trap the shower. The electrons in the shower produce scintillation light, and the amount of light collected is proportional to the total energy of the incident particles. This makes EMCal ideal for precisely measuring the energy of electrons, positrons and photons.\n",
    "\n",
    "The CMS detector at the LHC uses lead tungstate (PbWO$_4$) as the EMCal material."
   ]
  },
  {
   "cell_type": "markdown",
   "id": "8d20c0c4",
   "metadata": {},
   "source": [
    "<div class=\"alert alert-info\">\n",
    "<strong>Exercise:</strong> \n",
    "Calculate the radiation length and critical energy of PbWO$_4$ (its effective atomic number is Z = 68.35)</span>\n",
    "</div>"
   ]
  },
  {
   "cell_type": "code",
   "execution_count": null,
   "id": "0f96d0b8",
   "metadata": {},
   "outputs": [],
   "source": [
    "import math\n",
    "\n",
    "Z_Pb = 82\n",
    "A_Pb = 207\n",
    "density_Pb = 11.34\n",
    "\n",
    "X_0_Pb = 716.4 * A_Pb / (Z_Pb * (Z_Pb + 1) * math.log(287 / math.sqrt(Z_Pb)))\n",
    "print(f\"The radiation length for Pb is {X_0_Pb} g/cm²\")\n",
    "\n",
    "Z_PbWO4 = 68.35\n",
    "E_c_PbWO4 = 800 / Z_PbWO4\n",
    "print(f\"The critical energy for PbW04 is {E_c_PbWO4} MeV\")"
   ]
  },
  {
   "cell_type": "markdown",
   "id": "4d1e95a6",
   "metadata": {},
   "source": [
    "The effective atomic number and Thomson’s approximation cannot produce a good estimation for the radiation length and the critical energy.\n",
    "\n",
    "Consuld the PDG website (https://pdg.lbl.gov/2024/AtomicNuclearProperties/) to get more precise values for both radiation length and critical energy for PbWO$_4$ (note that lead tungstate is an inorganic scintillator)."
   ]
  },
  {
   "cell_type": "markdown",
   "id": "809505cb",
   "metadata": {},
   "source": [
    "<div class=\"alert alert-info\">\n",
    "<strong>Exercise:</strong> \n",
    "Calculate the approximate dimension of PbWO$_4$ crystal (longitudinal depth and transverse width) for a 100 GeV electron </span>\n",
    "</div>"
   ]
  },
  {
   "cell_type": "code",
   "execution_count": null,
   "id": "eb9667bd",
   "metadata": {},
   "outputs": [],
   "source": [
    "E = 100000\n",
    "\n",
    "density = 8.3\n",
    "X_0 = 7.39\n",
    "E_c = 9.64\n",
    "\n",
    "moliere_radius = (21 / E_c) * X_0 / density\n",
    "width = 2 * moliere_radius\n",
    "print(f'The Moliere radius of a shower generated by a {E/1000} GeV electron is {moliere_radius} cm')\n",
    "print(f'The width of a shower generated by a {E/1000} GeV electron is {width} cm')\n",
    "\n",
    "x_max = math.log(E/E_c)/math.log(2)\n",
    "length = x_max * X_0 / density\n",
    "print(f'The x_max of a shower generated by a {E/1000} GeV electron is {length} cm')"
   ]
  },
  {
   "cell_type": "markdown",
   "id": "9941f5ee",
   "metadata": {},
   "source": [
    "<div class=\"alert alert-info\">\n",
    "<strong>Exercise:</strong> \n",
    "Is this a good estimation for EMCal size? CMS EMCal crystals are actually 25 $X_0$ long—why?</span>\n",
    "</div>"
   ]
  },
  {
   "cell_type": "code",
   "execution_count": null,
   "id": "26522e6b",
   "metadata": {},
   "outputs": [],
   "source": [
    "# We want to measure the entire electromagnetic shower: to cover the whole shower we need redundancy, otherwise the shower\n",
    "# \"leaks\" outside the crystal and we miss part of it."
   ]
  },
  {
   "cell_type": "markdown",
   "id": "1cab1d98",
   "metadata": {},
   "source": [
    "<a name='section_1_2'></a>\n",
    "<hr style=\"height: 1px;\">\n",
    "\n",
    "\n",
    "## <h3 style=\"border:1px; border-style:solid; padding: 0.25em; color: #FFFFFF; background-color: #FFA500\">Problem 1.2: Shape of muon clusters on EMCal</h3>"
   ]
  },
  {
   "cell_type": "markdown",
   "id": "ce5dd64c",
   "metadata": {},
   "source": [
    "For bremsstrahlung process, the energy loss through distance is given by $-\\frac{dE}{dx} \\propto \\frac{Z^2 E}{m_{particle}^2}$."
   ]
  },
  {
   "cell_type": "markdown",
   "id": "d68a4fdf",
   "metadata": {},
   "source": [
    "<div class=\"alert alert-info\">\n",
    "<strong>Exercise:</strong> \n",
    "Consider a muon with a momentum of 50 GeV. What is the shape of the shower on an EMCal? How do you expect the energy deposit to be distributed on an EMCal?</span>\n",
    "</div>"
   ]
  },
  {
   "cell_type": "code",
   "execution_count": null,
   "id": "1733b03a",
   "metadata": {},
   "outputs": [],
   "source": [
    "# A 50 GeV muon is still a MIP. We expect a point-like EMCal with very little energy deposit (narrow peak near 0 GeV)"
   ]
  },
  {
   "cell_type": "markdown",
   "id": "fcc1c2ae",
   "metadata": {},
   "source": [
    "<div class=\"alert alert-info\">\n",
    "<strong>Exercise:</strong> \n",
    "Knowing at what energy electrons and positrons start emitting significant bremsstrahlung (what energy?), determine the threshold energy for a muon to emit significant bremsstrahlung in a PbWO$_4$ EMCal.</span>\n",
    "</div>"
   ]
  },
  {
   "cell_type": "code",
   "execution_count": null,
   "id": "c4ad124f",
   "metadata": {},
   "outputs": [],
   "source": [
    "# The energy at which electrons and positrons start emitting significant energy via bremsstrahlung is the critical energy.\n",
    "# Let's consider PbWO4: we already got from PDG that the critical energy for an electron is 9.64 MeV in.\n",
    "muon_mass = 105  # MeV\n",
    "electron_mass = 0.511  # MeV\n",
    "ratio2 = (muon_mass / electron_mass)**2\n",
    "E_c_muon = ratio2 * E_c  # MeV\n",
    "print(f'The critical energy for a muon in PbWO4 is {E_c_muon / 1000} GeV')"
   ]
  },
  {
   "cell_type": "markdown",
   "id": "d9a0066a",
   "metadata": {},
   "source": [
    "<a name='section_1_3'></a>\n",
    "<hr style=\"height: 1px;\">\n",
    "\n",
    "\n",
    "## <h3 style=\"border:1px; border-style:solid; padding: 0.25em; color: #FFFFFF; background-color: #FFA500\">Problem 1.3: Detector proposal</h3>"
   ]
  },
  {
   "cell_type": "markdown",
   "id": "acb46def",
   "metadata": {},
   "source": [
    "<div class=\"alert alert-info\">\n",
    "<strong>Exercise:</strong> \n",
    "Imagine that a few years from now you are a principal investigator. How would you implement the identification of electrons from photons and muons?</span>\n",
    "</div>"
   ]
  },
  {
   "cell_type": "code",
   "execution_count": null,
   "id": "da11b943",
   "metadata": {},
   "outputs": [],
   "source": [
    "# Electrons and muons can be distinguished via an electromagnetic calorimeter.\n",
    "# Electrons and photons look identical in an EMCal: we need a charged particle tracker to find the tracks left by the electrons."
   ]
  },
  {
   "cell_type": "markdown",
   "id": "cce470a2",
   "metadata": {},
   "source": [
    "<a name='section_2_0'></a>\n",
    "<hr style=\"height: 1px;\">\n",
    "\n",
    "\n",
    "## <h1 style=\"border:1px; border-style:solid; padding: 0.25em; color: #FFFFFF; background-color: #FFA500\">Section 2: Calorimetry and reconstruction</h1>\n"
   ]
  },
  {
   "cell_type": "markdown",
   "id": "f67b8b7a",
   "metadata": {},
   "source": [
    "The EMCal at the PHENIX experiment has in total, 2592 towers or channels to read out the energy deposits. The channels are arranged in a (72 x 36) matrix. For more details, please refer to the documentation.\n",
    "\n",
    "Use the following code snippet to read one event from the EMCal simulation:\n",
    "\n",
    "```\n",
    "# Example to obtain EMCal hits\n",
    "elmID, edep = ex3.get_hit_data()\n",
    "edep = edep/ex3.sfc  # This converts the energy depositions into GeV\n",
    "```\n",
    "\n",
    "In the rest of the exercise, whenever you are asked to work with the simulated events from the PHENIX EMCal, please remember to always conver the energy depositions as above using `ex3.sfc`!"
   ]
  },
  {
   "cell_type": "markdown",
   "id": "21115aab",
   "metadata": {},
   "source": [
    "<a name='section_2_1'></a>\n",
    "<hr style=\"height: 1px;\">\n",
    "\n",
    "\n",
    "## <h3 style=\"border:1px; border-style:solid; padding: 0.25em; color: #FFFFFF; background-color: #FFA500\">Problem 2.1: Events visualization and distribution</h3>"
   ]
  },
  {
   "cell_type": "markdown",
   "id": "74bbc650",
   "metadata": {},
   "source": [
    "The `elmID` is the index of the channel that received an hit and `edep` is the energy deposition measured for a hit in the given channel. To reconstruct the energy of the particle, you need to convert `elmID` into 2D spatial coordinates. Also, the energy deposited in the EMCal should be divided by a sampling fraction constant (`ex3.sfc`)."
   ]
  },
  {
   "cell_type": "markdown",
   "id": "7420fb15",
   "metadata": {},
   "source": [
    "<div class=\"alert alert-info\">\n",
    "<strong>Exercise:</strong> \n",
    "Write an algorithm that converts the channel ID into a pair of X and Y coordinates (in cm) according to the geometry of the PHENIX EMCal.</span>\n",
    "</div>"
   ]
  },
  {
   "cell_type": "code",
   "execution_count": null,
   "id": "45c2aab2",
   "metadata": {},
   "outputs": [],
   "source": [
    "def map_channels_energies_to_matrix(channels, energies, n_rows=72, n_columns=36):\n",
    "    # This function does not map into spatial coordinates: useful to cross-check the results\n",
    "    shape = (n_rows, n_columns)\n",
    "    matrix = np.zeros(shape, dtype=float)\n",
    "    i_rows, i_columns = np.unravel_index(channels, shape)\n",
    "    matrix[i_rows, i_columns] = energies\n",
    "    return matrix.T\n",
    "\n",
    "\n",
    "def channel_to_spatial_coordinates(channels, n_rows=72, n_columns=36, channel_size=5.535):\n",
    "    shape = (n_rows, n_columns)\n",
    "    i_rows, i_columns = np.unravel_index(channels, shape)\n",
    "    x = (i_rows - n_rows / 2) * channel_size\n",
    "    y = (n_columns / 2 - i_columns) * channel_size\n",
    "    return np.column_stack((x, y))"
   ]
  },
  {
   "cell_type": "markdown",
   "id": "b9237c27",
   "metadata": {},
   "source": [
    "<div class=\"alert alert-info\">\n",
    "<strong>Exercise:</strong> \n",
    "Plot the 2D distribution of all hits in an event according to their X and Y coordinates and their energy deposition. For example, show event 5 from the electron sample.</span>\n",
    "</div>"
   ]
  },
  {
   "cell_type": "code",
   "execution_count": null,
   "id": "db52bcdc",
   "metadata": {},
   "outputs": [],
   "source": [
    "def plot_simple_energy_matrix(matrix, title=\"EMCal clusters\", color_map=\"viridis\"):\n",
    "    import matplotlib  # noqa\n",
    "    masked_matrix = np.ma.masked_where(matrix == 0, matrix)\n",
    "    cmap = matplotlib.colormaps.get_cmap(color_map)\n",
    "    cmap.set_bad(color='white')\n",
    "    plt.figure(figsize=(10, 10))\n",
    "    plt.imshow(masked_matrix, cmap=cmap, aspect='auto')\n",
    "    plt.colorbar(label=\"Energy deposition (GeV)\")\n",
    "    plt.title(title)\n",
    "    plt.xlabel(\"X coordinate (arbitrary units)\")\n",
    "    plt.ylabel(\"Y coordinate (arbitrary units)\")\n",
    "    plt.show()\n",
    "\n",
    "\n",
    "def plot_spatial_energy_matrix(coordinates, energies, centroids=None, labels=None, title=\"EMCal clusters\", marker_size_scale=20, color_map=\"viridis\"):\n",
    "    x, y = coordinates[:, 0], coordinates[:, 1]\n",
    "    plt.figure(figsize=(10, 10))\n",
    "    \n",
    "    scatter = plt.scatter(\n",
    "        x, y,\n",
    "        c=energies,\n",
    "        s=energies * marker_size_scale,\n",
    "        cmap=color_map,\n",
    "        edgecolor=\"k\",\n",
    "        alpha=0.8\n",
    "    )\n",
    "    \n",
    "    plt.colorbar(scatter, label=\"Energy deposition (GeV)\")\n",
    "    plt.title(title)\n",
    "    plt.xlabel(\"X coordinate (cm)\")\n",
    "    plt.ylabel(\"Y coordinate (cm)\")\n",
    "    plt.xlim(-210, 210)\n",
    "    plt.ylim(-105, 105)\n",
    "    plt.grid(True)\n",
    "    plt.axhline(0, color='gray', linestyle='--', linewidth=0.5)\n",
    "    plt.axvline(0, color='gray', linestyle='--', linewidth=0.5)\n",
    "    plt.show()\n",
    "\n",
    "\n",
    "elmID, edep = ex3.get_hit_data()\n",
    "edep = edep/ex3.sfc\n",
    "\n",
    "# Plot without the conversion into spatial coordinates\n",
    "mapped_matrix = map_channels_energies_to_matrix(elmID, edep)\n",
    "plot_simple_energy_matrix(mapped_matrix)\n",
    "# Plot with the conversion into spatial coordinates\n",
    "coordinates = channel_to_spatial_coordinates(elmID)\n",
    "plot_spatial_energy_matrix(coordinates, edep)"
   ]
  },
  {
   "cell_type": "markdown",
   "id": "f26be2f4",
   "metadata": {},
   "source": [
    "<div class=\"alert alert-info\">\n",
    "<strong>Exercise:</strong> \n",
    "What is the measured energy of the particle in event 5 of the electron sample? And what is the distribution of all measured energies in all events of the electron sample?</span>\n",
    "</div>"
   ]
  },
  {
   "cell_type": "code",
   "execution_count": null,
   "id": "48e772f2",
   "metadata": {},
   "outputs": [],
   "source": [
    "# The total energy for event 5 is rather trivial:\n",
    "total_energy = np.sum(edep)\n",
    "print(f'The total energy is {total_energy} GeV')"
   ]
  },
  {
   "cell_type": "markdown",
   "id": "11e5a490",
   "metadata": {},
   "source": [
    "<a name='section_2_2'></a>\n",
    "<hr style=\"height: 1px;\">\n",
    "\n",
    "\n",
    "## <h3 style=\"border:1px; border-style:solid; padding: 0.25em; color: #FFFFFF; background-color: #FFA500\">Problem 2.2: Cluster properties and moments</h3>"
   ]
  },
  {
   "cell_type": "markdown",
   "id": "a1da7d49",
   "metadata": {},
   "source": [
    "After having measured the energy deposited by all the hits in a cluster, it is important to characterize the cluster and determine its properties. We will use the moments of a distribution to do this. Remember that the clusters we are analyzing are basically 2D distributions!"
   ]
  },
  {
   "cell_type": "markdown",
   "id": "681e68a9",
   "metadata": {},
   "source": [
    "<div class=\"alert alert-info\">\n",
    "<strong>Exercise:</strong> \n",
    "Using *numpy*, implement functions to calculate the mean (geometric center), width ($\\sigma$), standardized skewness and standardized kurtosis for the PHENIX EMCal clusters.</span>\n",
    "</div>"
   ]
  },
  {
   "cell_type": "code",
   "execution_count": null,
   "id": "ddfd0b00",
   "metadata": {},
   "outputs": [],
   "source": [
    "def f_mean(data):\n",
    "    return np.mean(data)\n",
    "\n",
    "\n",
    "def f_width(data):\n",
    "    return np.std(data, ddof=0)\n",
    "\n",
    "\n",
    "def f_variance(data):\n",
    "    return width(data)**2\n",
    "\n",
    "\n",
    "def f_skewness(data):\n",
    "    n = len(data)\n",
    "    mean = f_mean(data)\n",
    "    width = f_width(data)\n",
    "    skewness = np.sum((data - mean) ** 3) / (n * (width ** 3))\n",
    "    return skewness\n",
    "\n",
    "\n",
    "def f_kurtosis(data):\n",
    "    n = len(data)\n",
    "    mean = f_mean(data)\n",
    "    width = f_width(data)\n",
    "    kurtosis = np.sum((data - mean) ** 4) / (n * (width ** 4))\n",
    "    return kurtosis"
   ]
  },
  {
   "cell_type": "markdown",
   "id": "a2ced72d",
   "metadata": {},
   "source": [
    "<div class=\"alert alert-info\">\n",
    "<strong>Exercise:</strong> \n",
    "Visualize again some events from the electron sample and calculate the moments. Which moments look useful for identifying electrons, and why?</span>\n",
    "</div>"
   ]
  },
  {
   "cell_type": "code",
   "execution_count": null,
   "id": "a8496c16",
   "metadata": {},
   "outputs": [],
   "source": [
    "x = coordinates[:, 0]\n",
    "y = coordinates[:, 1]\n",
    "\n",
    "plot_spatial_energy_matrix(coordinates, edep)\n",
    "\n",
    "print(x, y)\n",
    "x_mean = f_mean(x)\n",
    "y_mean = f_mean(y)\n",
    "print(f'Mean: {x_mean},{y_mean}')\n",
    "x_width = f_width(x)\n",
    "y_width = f_width(y)\n",
    "print(f'Width: {x_width},{y_width}')\n",
    "x_skewness = f_skewness(x)\n",
    "y_skewness = f_skewness(y)\n",
    "print(f'Skewness: {x_skewness},{y_skewness}')\n",
    "x_kurtosis = f_kurtosis(x)\n",
    "y_kurtosis = f_kurtosis(y)\n",
    "print(f'Kurtosis: {x_kurtosis},{y_kurtosis}')"
   ]
  },
  {
   "cell_type": "markdown",
   "id": "7ea3f9dd",
   "metadata": {},
   "source": [
    "<div class=\"alert alert-info\">\n",
    "<strong>Exercise:</strong> \n",
    "(Optional) Implement functions to calculate skewness and kurtosis without \"standardization\" and compute them for few events. Why do we usually use the standardized versions?</span>\n",
    "</div>"
   ]
  },
  {
   "cell_type": "code",
   "execution_count": null,
   "id": "863a37a1",
   "metadata": {},
   "outputs": [],
   "source": [
    "def f_skewness_raw(data):\n",
    "    n = len(data)\n",
    "    mean = f_mean(data)\n",
    "    width = f_width(data)\n",
    "    skewness = np.sum((data - mean) ** 3) / n\n",
    "    return skewness\n",
    "\n",
    "\n",
    "def f_kurtosis_raw(data):\n",
    "    n = len(data)\n",
    "    mean = f_mean(data)\n",
    "    width = f_width(data)\n",
    "    kurtosis = np.sum((data - mean) ** 4) / n\n",
    "    return kurtosis\n",
    "\n",
    "\n",
    "print(f'Skewness: {x_skewness},{y_skewness}')\n",
    "x_skewness_raw = f_skewness_raw(x)\n",
    "y_skewness_raw = f_skewness_raw(y)\n",
    "print(f'Raw skewness: {x_skewness},{y_skewness}')\n",
    "print(f'Kurtosis: {x_kurtosis},{y_kurtosis}')\n",
    "x_kurtosis_raw = f_kurtosis_raw(x)\n",
    "y_kurtosis_raw = f_kurtosis_raw(y)\n",
    "print(f'Raw kurtosis: {x_kurtosis_raw},{y_kurtosis_raw}')\n",
    "\n",
    "# Since skewness and kurtosis basically compares the behaviour of a distribution w.r.t. a gaussian distribution,\n",
    "# the standardized values provide useful numbers to interpret. If one looks at the \"raw\" kurtosis above:\n",
    "# what 625 means? While 1.5 is easy to interpret."
   ]
  },
  {
   "cell_type": "markdown",
   "id": "123fc926",
   "metadata": {},
   "source": [
    "<a name='section_3_0'></a>\n",
    "<hr style=\"height: 1px;\">\n",
    "\n",
    "\n",
    "## <h1 style=\"border:1px; border-style:solid; padding: 0.25em; color: #FFFFFF; background-color: #FFA500\">Section 3: Calorimetry and clustering</h1>"
   ]
  },
  {
   "cell_type": "markdown",
   "id": "9e6d80be",
   "metadata": {},
   "source": [
    "<a name='section_3_1'></a>\n",
    "<hr style=\"height: 1px;\">\n",
    "\n",
    "\n",
    "## <h3 style=\"border:1px; border-style:solid; padding: 0.25em; color: #FFFFFF; background-color: #FFA500\">Problem 3.1: An homemade K-means clustering algorithm</h3>"
   ]
  },
  {
   "cell_type": "markdown",
   "id": "1e4614b2",
   "metadata": {},
   "source": [
    "<div class=\"alert alert-info\">\n",
    "<strong>Exercise:</strong> \n",
    "Visualize the event 0 from the electron sample and the event 6 from the dielectron sample and then compute the relevant moments. Do they still provide a good description for multi-particle cases? Why?</span>\n",
    "</div>"
   ]
  },
  {
   "cell_type": "code",
   "execution_count": null,
   "id": "576b35cb",
   "metadata": {},
   "outputs": [],
   "source": [
    "# Event 0, electron\n",
    "elmID, edep = ex3.get_hit_data()\n",
    "edep = edep/ex3.sfc\n",
    "\n",
    "coordinates = channel_to_spatial_coordinates(elmID)\n",
    "\n",
    "x = coordinates[:, 0]\n",
    "y = coordinates[:, 1]\n",
    "\n",
    "plot_spatial_energy_matrix(coordinates, edep)\n",
    "\n",
    "print(x, y)\n",
    "x_mean = f_mean(x)\n",
    "y_mean = f_mean(y)\n",
    "print(f'Mean: {x_mean},{y_mean}')\n",
    "x_width = f_width(x)\n",
    "y_width = f_width(y)\n",
    "print(f'Width: {x_width},{y_width}')\n",
    "x_skewness = f_skewness(x)\n",
    "y_skewness = f_skewness(y)\n",
    "print(f'Skewness: {x_skewness},{y_skewness}')\n",
    "x_kurtosis = f_kurtosis(x)\n",
    "y_kurtosis = f_kurtosis(y)\n",
    "print(f'Kurtosis: {x_kurtosis},{y_kurtosis}')\n",
    "\n",
    "# Event 6, dielectron\n",
    "elmID, edep = ex3.get_hit_data()\n",
    "edep = edep/ex3.sfc\n",
    "\n",
    "coordinates = channel_to_spatial_coordinates(elmID)\n",
    "\n",
    "x = coordinates[:, 0]\n",
    "y = coordinates[:, 1]\n",
    "\n",
    "plot_spatial_energy_matrix(coordinates, edep)\n",
    "\n",
    "print(x, y)\n",
    "x_mean = f_mean(x)\n",
    "y_mean = f_mean(y)\n",
    "print(f'Mean: {x_mean},{y_mean}')\n",
    "x_width = f_width(x)\n",
    "y_width = f_width(y)\n",
    "print(f'Width: {x_width},{y_width}')\n",
    "x_skewness = f_skewness(x)\n",
    "y_skewness = f_skewness(y)\n",
    "print(f'Skewness: {x_skewness},{y_skewness}')\n",
    "x_kurtosis = f_kurtosis(x)\n",
    "y_kurtosis = f_kurtosis(y)\n",
    "print(f'Kurtosis: {x_kurtosis},{y_kurtosis}')"
   ]
  },
  {
   "cell_type": "markdown",
   "id": "e03da784",
   "metadata": {},
   "source": [
    "For cases with particle gun decays, we can perform clustering to group the hits associated with different secondary particles produced in the decay.\n",
    "\n",
    "To test the clustering algorithms and evaluate if they are implemented correctly, you can use the following method to randomly generate a number of clusters with a given number of hits.\n",
    "\n",
    "```\n",
    "import ex3\n",
    "points = ex3.generate_2d_points()\n",
    "# ex3.generate_2d_points(num_clusters=X, points_per_cluster=Y, spread=Z, random_seed=42)\n",
    "```"
   ]
  },
  {
   "cell_type": "markdown",
   "id": "7721df28",
   "metadata": {},
   "source": [
    "<div class=\"alert alert-info\">\n",
    "<strong>Exercise:</strong> \n",
    "Generate some points with the default settings (without passing arguments) and also with some custom settings and visualize the generated datasets.</span>\n",
    "</div>"
   ]
  },
  {
   "cell_type": "code",
   "execution_count": null,
   "id": "00f7acae",
   "metadata": {},
   "outputs": [],
   "source": [
    "def generate_2d_points(num_clusters, points_per_cluster, spread, random_seed=42):\n",
    "    np.random.seed(random_seed)\n",
    "    data = []\n",
    "\n",
    "    for i in range(num_clusters):\n",
    "        center = np.random.uniform([-120, -60], [120, 60])\n",
    "        cluster_points = center + np.random.randn(points_per_cluster, 2) * spread\n",
    "        data.append(cluster_points)\n",
    "\n",
    "    data = np.vstack(data)\n",
    "    return data\n",
    "\n",
    "\n",
    "def get_constant_array(array, constant=1):\n",
    "    return np.full(array.shape[0], constant)\n",
    "\n",
    "\n",
    "i=0\n",
    "for n in [2, 4, 6]:\n",
    "    for p in [10, 20, 30]:\n",
    "        for s in [1., 3., 5.]:\n",
    "            i+=1\n",
    "            coordinates = generate_2d_points(num_clusters=n, points_per_cluster=p, spread=s, random_seed=i)\n",
    "            energies = get_constant_array(array=coordinates, constant=1)\n",
    "            plot_spatial_energy_matrix(coordinates=coordinates, energies=energies, title=f'Clusters: {n}, Points per clusters: {p}, Spread: {s}')"
   ]
  },
  {
   "cell_type": "markdown",
   "id": "e2b267cd",
   "metadata": {},
   "source": [
    "<div class=\"alert alert-info\">\n",
    "<strong>Exercise:</strong> \n",
    "Implement by yourself, using only standard Python and eventually numpy functions, the K-means clustering algorithm and test it on few generated datasets. Visualize the identified clusters, their centroids and the associated hits.</span>\n",
    "</div>"
   ]
  },
  {
   "cell_type": "code",
   "execution_count": null,
   "id": "5f7bb083",
   "metadata": {},
   "outputs": [],
   "source": [
    "def plot_spatial_energy_matrix_complex(coordinates, energies, centroids=None, labels=None, title=\"EMCal clusters\", marker_size_scale=20, color_map=\"viridis\"):\n",
    "\n",
    "    import matplotlib  # noqa\n",
    "    \n",
    "    x, y = coordinates[:, 0], coordinates[:, 1]\n",
    "    plt.figure(figsize=(10, 10))\n",
    "\n",
    "    if labels is None:\n",
    "        # If no labels are provided, color by energy\n",
    "        scatter = plt.scatter(\n",
    "            x, y,\n",
    "            c=energies,\n",
    "            s=energies * marker_size_scale,\n",
    "            cmap=color_map,\n",
    "            edgecolor=\"k\",\n",
    "            alpha=0.8\n",
    "        )\n",
    "        plt.colorbar(scatter, label=\"Energy deposition (GeV)\")\n",
    "    else:\n",
    "        # If labels are provided, color by cluster label\n",
    "        unique_labels = np.unique(labels)\n",
    "        centroid_colors = matplotlib.colormaps[color_map](np.linspace(0, 1, len(unique_labels)))\n",
    "        point_colors = np.array([centroid_colors[label] for label in labels])\n",
    "        label_to_centroid_color = {label: centroid_colors[i] for i, label in enumerate(unique_labels)}\n",
    "        scatter = plt.scatter(\n",
    "            x, y,\n",
    "            c=point_colors,\n",
    "            s=energies * marker_size_scale,\n",
    "            edgecolor=\"k\",\n",
    "            alpha=0.8\n",
    "        )\n",
    "        plt.colorbar(scatter, label=\"Cluster label\")\n",
    "    # If centroids are provided, plot the centroids\n",
    "    if centroids is not None:\n",
    "        cx, cy = centroids[:, 0], centroids[:, 1]\n",
    "        if labels is not None:\n",
    "            centroid_colors = [\n",
    "                label_to_centroid_color[label] for label in range(len(centroids))\n",
    "            ]\n",
    "        else:\n",
    "            centroid_colors = [\n",
    "                matplotlib.colormaps.get_cmap(color_map)(i / len(centroids)) for i in range(len(centroids))\n",
    "            ]\n",
    "        centroid_scatter = plt.scatter(\n",
    "            cx, cy,\n",
    "            color=centroid_colors,\n",
    "            marker='X',\n",
    "            s=200,\n",
    "            edgecolor=\"k\",\n",
    "            label=\"Centroids\"\n",
    "        )\n",
    "\n",
    "    plt.title(title)\n",
    "    plt.xlabel(\"X coordinate (cm)\")\n",
    "    plt.ylabel(\"Y coordinate (cm)\")\n",
    "    plt.xlim(-210, 210)\n",
    "    plt.ylim(-105, 105)\n",
    "    plt.grid(True)\n",
    "    plt.axhline(0, color='gray', linestyle='--', linewidth=0.5)\n",
    "    plt.axvline(0, color='gray', linestyle='--', linewidth=0.5)\n",
    "    plt.show()\n",
    "\n",
    "\n",
    "def k_means(data, k, max_iterations=100, tolerance=1e-4, random_seed=42, initial_centroids=None):\n",
    "    # Step 1: Initialize centroids\n",
    "    n_samples, n_features = data.shape\n",
    "\n",
    "    if initial_centroids is not None:\n",
    "        assert(len(initial_centroids) == k)\n",
    "        centroids = data[initial_centroids]\n",
    "    else:\n",
    "        # Otherwise, initialize centroids randomly\n",
    "        np.random.seed(random_seed)\n",
    "        centroids = data[np.random.choice(n_samples, size=k, replace=False)]\n",
    "\n",
    "    # Step 4.2: Iterate\n",
    "    for i in range(max_iterations):\n",
    "\n",
    "        # Step 3.1: Compute the Euclidean distance\n",
    "        distances = np.zeros((n_samples, k))\n",
    "        for i_point in range(n_samples):\n",
    "            for j_centroid in range(k):\n",
    "                diff = data[i_point] - centroids[j_centroid]\n",
    "                squared_distance = np.sum(diff ** 2)\n",
    "                distances[i_point, j_centroid] = np.sqrt(squared_distance)\n",
    "\n",
    "        # Step 3.2: Assign hits to the closest centroid\n",
    "        labels = np.zeros(n_samples, dtype=int)\n",
    "        for i_point in range(n_samples):\n",
    "            closest_centroid_index = np.argmin(distances[i_point])\n",
    "            labels[i_point] = closest_centroid_index\n",
    "\n",
    "        # Step 3.3: Calculate new centroids\n",
    "        new_centroids = np.zeros_like(centroids)\n",
    "        for j_centroid in range(k):\n",
    "            points_in_cluster = data[labels == j_centroid]\n",
    "            if points_in_cluster.shape[0] > 0:  # Avoid division by zero (if no points in a cluster)\n",
    "                new_centroids[j_centroid] = np.mean(points_in_cluster, axis=0)\n",
    "\n",
    "        # Step 3.4: Check if the algorithm converged\n",
    "        if np.all(np.abs(new_centroids - centroids) < tolerance):\n",
    "            print(f\"Converged after {i+1} iterations\")\n",
    "            break\n",
    "\n",
    "        # Step 4.1: Update centroids for the next iteration\n",
    "        centroids = new_centroids\n",
    "\n",
    "    return centroids, labels\n",
    "\n",
    "\n",
    "for n in [2, 4, 6]:\n",
    "    coordinates = generate_2d_points(num_clusters=n, points_per_cluster=20, spread=4.)\n",
    "    centroids, labels = k_means(coordinates, n)\n",
    "    energies = get_constant_array(coordinates)\n",
    "    plot_spatial_energy_matrix_complex(coordinates, energies, centroids=centroids, labels=labels, title=f'Clusters: {n}')"
   ]
  },
  {
   "cell_type": "markdown",
   "id": "b37abc2d",
   "metadata": {},
   "source": [
    "<a name='section_3_2'></a>\n",
    "<hr style=\"height: 1px;\">\n",
    "\n",
    "\n",
    "## <h3 style=\"border:1px; border-style:solid; padding: 0.25em; color: #FFFFFF; background-color: #FFA500\">Problem 3.2: Finding optimal number of centroids</h3>"
   ]
  },
  {
   "cell_type": "markdown",
   "id": "8a9947f4",
   "metadata": {},
   "source": [
    "<div class=\"alert alert-info\">\n",
    "<strong>Exercise:</strong> \n",
    "Implement by yourself an elbow method for your K-means algorithm and test it on few events to evaluate its performance.</span>\n",
    "</div>"
   ]
  },
  {
   "cell_type": "code",
   "execution_count": null,
   "id": "4a268a7e",
   "metadata": {},
   "outputs": [],
   "source": [
    "def evaluate_method(data, score_method, title_label, min_k=1, max_k=10):\n",
    "    score_values = []\n",
    "\n",
    "    for k in range(min_k, max_k + 1):\n",
    "        centroids, labels = k_means(data, k)\n",
    "        score = score_method(data, centroids, labels)\n",
    "        energies = get_constant_array(data)\n",
    "        plot_spatial_energy_matrix_complex(data, energies, centroids=centroids, labels=labels, title=f'{title_label} - Clusters: {k} - Score: {score}')\n",
    "        score_values.append(score)\n",
    "\n",
    "    plt.figure(figsize=(10, 10))\n",
    "    plt.plot(range(min_k, max_k + 1), score_values, marker='o', linestyle='--')\n",
    "    plt.title(f\"{title_label} method for the optimal K\")\n",
    "    plt.xlabel(\"Number of clusters (K)\")\n",
    "    plt.ylabel(\"Score\")\n",
    "    plt.show()\n",
    "\n",
    "\n",
    "def wcss_score(data, centroids, labels):\n",
    "    wcss = 0\n",
    "    k = len(centroids)\n",
    "    for i in range(k):\n",
    "        cluster_points = data[labels == i]\n",
    "        centroid = centroids[i]\n",
    "        squared_distances = np.sum((cluster_points - centroid) ** 2, axis=1)\n",
    "        wcss += np.sum(squared_distances)\n",
    "    return wcss\n",
    "\n",
    "\n",
    "for n in [2, 4, 6]:\n",
    "    print('###############################################################################################')\n",
    "    print(f'Generating {n} clusters...')\n",
    "    coordinates = generate_2d_points(num_clusters=n, points_per_cluster=20, spread=4., random_seed=999)\n",
    "    evaluate_method(data=coordinates, score_method=wcss_score, title_label='Elbow method', min_k=2, max_k=10)"
   ]
  },
  {
   "cell_type": "markdown",
   "id": "e4d95e60",
   "metadata": {},
   "source": [
    "<div class=\"alert alert-info\">\n",
    "<strong>Exercise:</strong> \n",
    "Implement by yourself a silhouette method for your K-means algorithm and test it on few events to evaluate its performance.</span>"
   ]
  },
  {
   "cell_type": "code",
   "execution_count": null,
   "id": "b1e2645c",
   "metadata": {},
   "outputs": [],
   "source": [
    "def silhouette_score(data, centroids, labels):\n",
    "    total_score = 0\n",
    "    n_samples = data.shape[0]\n",
    "    k = len(centroids)\n",
    "\n",
    "    for i in range(n_samples):\n",
    "        point = data[i]\n",
    "        point_label = labels[i]\n",
    "\n",
    "        # Calculate the intra-cluster distance a_i\n",
    "        same_cluster_points = data[labels == point_label]\n",
    "        intra_cluster_distances = np.sum((same_cluster_points - point) ** 2, axis=1)\n",
    "        a_i = np.sum(intra_cluster_distances) / len(same_cluster_points)\n",
    "\n",
    "        # Calculate the nearest cluster distance b_i\n",
    "        # Calculate the nearest cluster distance b_i\n",
    "        b_i = float('inf')\n",
    "        for j in range(k):\n",
    "            if j == point_label:\n",
    "                continue  # Skip the same cluster\n",
    "            other_cluster_points = data[labels == j]\n",
    "            inter_cluster_distances = np.sum((other_cluster_points - point) ** 2, axis=1)\n",
    "            nearest_cluster_distance = np.sum(inter_cluster_distances) / len(other_cluster_points)\n",
    "            if nearest_cluster_distance < b_i:\n",
    "                b_i = nearest_cluster_distance\n",
    "\n",
    "        # Calcualte the silhouette hit score s_i\n",
    "        #if np.isinf(a_i) or np.isinf(b_i):\n",
    "        #    s_i = 0\n",
    "        if max(a_i, b_i) == 0:\n",
    "            s_i = 0\n",
    "        else:\n",
    "            s_i = (b_i - a_i) / max(a_i, b_i)\n",
    "        total_score += s_i\n",
    "\n",
    "    # Return the average silhouette score S of the event\n",
    "    return total_score / n_samples\n",
    "\n",
    "\n",
    "for n in [2, 4, 6]:\n",
    "    print('###############################################################################################')\n",
    "    print(f'Generating {n} clusters...')\n",
    "    coordinates = generate_2d_points(num_clusters=n, points_per_cluster=20, spread=4., random_seed=999)\n",
    "    evaluate_method(data=coordinates, score_method=silhouette_score, title_label='Silhouette method', min_k=2, max_k=10)"
   ]
  },
  {
   "cell_type": "markdown",
   "id": "d3f62e35",
   "metadata": {},
   "source": [
    "<div class=\"alert alert-info\">\n",
    "<strong>Exercise:</strong> \n",
    "Implement by yourself a seed-searching algorithm for your K-means algorithm and test it on few events to evaluate its performance. Note that, for this case, you need to use the events from the dielectron sample.</span>"
   ]
  },
  {
   "cell_type": "code",
   "execution_count": null,
   "id": "9900bdfe",
   "metadata": {},
   "outputs": [],
   "source": [
    "def seed_search(channels, energies, min_energy_threshold=5.0, padding_size=1, n_rows=72, n_columns=36):\n",
    "    # Step 1: Map energies to the 2D energy matrix\n",
    "    energy_matrix = map_channels_energies_to_matrix(channels, energies, n_rows, n_columns)\n",
    "\n",
    "    # Step 2: Apply minimum energy threshold to identify potential seed candidates\n",
    "    # Creating a binary mask where energy values are greater than the threshold\n",
    "    energy_mask = energy_matrix > min_energy_threshold\n",
    "\n",
    "    # Step 3: Get the coordinates of the potential seeds\n",
    "    seed_coordinates = np.argwhere(energy_mask)\n",
    "\n",
    "    # Step 4: Sort seeds by their energy values (ascending)\n",
    "    seed_energies = energy_matrix[energy_mask]\n",
    "    sorted_seeds = sorted(zip(seed_energies, seed_coordinates), key=lambda x: x[0])\n",
    "\n",
    "    # Step 5: Define a padding region and check for neighboring cells with higher energy\n",
    "    valid_seeds = []\n",
    "    for energy, (x, y) in sorted_seeds:\n",
    "        # Create a region around the current seed (including padding)\n",
    "        x_min = max(0, x - padding_size)\n",
    "        x_max = min(n_rows, x + padding_size + 1)\n",
    "        y_min = max(0, y - padding_size)\n",
    "        y_max = min(n_columns, y + padding_size + 1)\n",
    "\n",
    "        # Extract the neighboring region (within bounds)\n",
    "        region = energy_matrix[x_min:x_max, y_min:y_max]\n",
    "\n",
    "        # If any neighboring cell has energy greater than the current seed, discard it\n",
    "        if np.any(region > energy):\n",
    "            continue\n",
    "\n",
    "        # Otherwise, keep this seed\n",
    "        channel_id = y * n_columns + x\n",
    "        valid_seeds.append(channel_id)\n",
    "\n",
    "    if not valid_seeds:\n",
    "        return None\n",
    "\n",
    "    return valid_seeds\n",
    "\n",
    "# This will be evaluated later :)"
   ]
  },
  {
   "cell_type": "markdown",
   "id": "f9ab48d5",
   "metadata": {},
   "source": [
    "<a name='section_3_2'></a>\n",
    "<hr style=\"height: 1px;\">\n",
    "\n",
    "\n",
    "## <h3 style=\"border:1px; border-style:solid; padding: 0.25em; color: #FFFFFF; background-color: #FFA500\">Problem 3.3: Putting everything together</h3>"
   ]
  },
  {
   "cell_type": "markdown",
   "id": "cf6cf62e",
   "metadata": {},
   "source": [
    "Now that you have mastered the fine art of identifying clusters from a collection of hits, you can use your clustering algorithm over a special dataset of simulated PHENIX EMCal events, where each event has multiple clusters and a lot of noise hits. To get these events (100 in total), execute the following snippet:\n",
    "\n",
    "```\n",
    "import exercise3_utils as ex3\n",
    "elmID, edep = ex3.get_testing_clustering()\n",
    "```\n",
    "\n",
    "Note that, in this case, `elmID` and `edep` are arrays of arrays. To get `elmID` and `edep` arrays for the event X (with 0 <= X <= 99), you can simply use `elmID[X]` and `edep[X]`."
   ]
  },
  {
   "cell_type": "markdown",
   "id": "104f05af",
   "metadata": {},
   "source": [
    "<div class=\"alert alert-info\">\n",
    "<strong>Exercise:</strong> \n",
    "Run your clustering algorithm (using your preferred method to find the optimal number of clusters) over few events from the multi-cluster/noisy sample presented above. For each event, plot the clusters found and which hits belong to the cluster. For each cluster found, calculate its position, width and energy.</span>"
   ]
  },
  {
   "cell_type": "code",
   "execution_count": null,
   "id": "0fff5f02",
   "metadata": {},
   "outputs": [],
   "source": [
    "import exercise3_utils as ex3\n",
    "elmIDs, edeps = ex3.get_testing_clustering()\n",
    "\n",
    "for i in range(10):\n",
    "    elmID = elmIDs[i]\n",
    "    edep = edeps[i] / ex3.sfc\n",
    "    # Use 5% of total energy in the event as threshold\n",
    "    min_energy = 0.05 * np.sum(edep)\n",
    "    seeds = seed_search(elmID, edep, min_energy_threshold=min_energy)\n",
    "    if seeds:\n",
    "        seeds_indices = np.where(np.isin(elmID, seeds))[0]\n",
    "        coordinates = channel_to_spatial_coordinates(elmID)\n",
    "        centroids, labels = k_means(data=coordinates, k=len(seeds_indices), max_iterations=2, tolerance=1e-4, initial_centroids=seeds_indices)\n",
    "        plot_spatial_energy_matrix_complex(coordinates, edep, centroids=centroids, labels=labels, title=f'Event: {i} - Clusters: {len(centroids)}')\n",
    "        unique_labels = np.unique(labels)\n",
    "        for i, label in enumerate(unique_labels):\n",
    "            cluster_energy = np.sum(edep[labels == label])\n",
    "            print(f'Cluster {i}: Energy: {cluster_energy} GeV')\n",
    "            # Mean and width are trivial"
   ]
  },
  {
   "cell_type": "code",
   "execution_count": null,
   "id": "fe1aaeb8",
   "metadata": {},
   "outputs": [],
   "source": []
  }
 ],
 "metadata": {
  "kernelspec": {
   "display_name": "Python 3 (Belle2)",
   "language": "python",
   "name": "python3"
  },
  "language_info": {
   "codemirror_mode": {
    "name": "ipython",
    "version": 3
   },
   "file_extension": ".py",
   "mimetype": "text/x-python",
   "name": "python",
   "nbconvert_exporter": "python",
   "pygments_lexer": "ipython3",
   "version": "3.8.8"
  }
 },
 "nbformat": 4,
 "nbformat_minor": 5
}
